{
 "cells": [
  {
   "cell_type": "markdown",
   "id": "023d5964",
   "metadata": {},
   "source": [
    "# Review python\n",
    "\n",
    "## generate random array with numpy"
   ]
  },
  {
   "cell_type": "code",
   "execution_count": 12,
   "id": "150a45fa",
   "metadata": {},
   "outputs": [
    {
     "name": "stdout",
     "output_type": "stream",
     "text": [
      "[[0 0 0 1 0]\n",
      " [1 1 0 1 0]\n",
      " [0 0 1 0 1]\n",
      " [0 0 0 1 0]]\n"
     ]
    }
   ],
   "source": [
    "import numpy as np\n",
    "array = np.random.randint(2, size=(4, 5))\n",
    "print(array)"
   ]
  },
  {
   "cell_type": "markdown",
   "id": "390df163",
   "metadata": {},
   "source": [
    "## Return dimension with np.shape or .shape"
   ]
  },
  {
   "cell_type": "code",
   "execution_count": 13,
   "id": "03aa510c",
   "metadata": {
    "scrolled": true
   },
   "outputs": [
    {
     "name": "stdout",
     "output_type": "stream",
     "text": [
      "col = 5\n",
      "row = 4\n"
     ]
    }
   ],
   "source": [
    "# return number of col\n",
    "col = np.shape(array)[1]\n",
    "print(\"col =\",col)\n",
    "# return number of row\n",
    "row = np.shape(array)[0]\n",
    "print(\"row =\",row)"
   ]
  },
  {
   "cell_type": "markdown",
   "id": "f92f17be",
   "metadata": {},
   "source": [
    "## Concatenate array"
   ]
  },
  {
   "cell_type": "code",
   "execution_count": 6,
   "id": "670093d1",
   "metadata": {},
   "outputs": [
    {
     "name": "stdout",
     "output_type": "stream",
     "text": [
      "axis=1 -> adding row\n",
      "[[1 2 5 6]\n",
      " [3 4 7 8]]\n",
      "\n",
      "axis=0 -> adding column\n",
      "[[1 2]\n",
      " [3 4]\n",
      " [5 6]\n",
      " [7 8]]\n"
     ]
    }
   ],
   "source": [
    "arr1 = np.array([[1, 2], [3, 4]])\n",
    "arr2 = np.array([[5, 6], [7, 8]])\n",
    "arr = np.concatenate((arr1, arr2), axis=1)\n",
    "print(\"axis=1 -> adding row\")\n",
    "print(arr)\n",
    "print()\n",
    "print(\"axis=0 -> adding column\")\n",
    "arr = np.concatenate((arr1, arr2), axis=0)\n",
    "print(arr)"
   ]
  },
  {
   "cell_type": "code",
   "execution_count": 8,
   "id": "a863763d",
   "metadata": {},
   "outputs": [],
   "source": [
    "x = np.ones((1,40))*np.linspace(0,1,40)"
   ]
  },
  {
   "cell_type": "code",
   "execution_count": 9,
   "id": "87f8f93f",
   "metadata": {},
   "outputs": [
    {
     "data": {
      "text/plain": [
       "array([[0.        , 0.02564103, 0.05128205, 0.07692308, 0.1025641 ,\n",
       "        0.12820513, 0.15384615, 0.17948718, 0.20512821, 0.23076923,\n",
       "        0.25641026, 0.28205128, 0.30769231, 0.33333333, 0.35897436,\n",
       "        0.38461538, 0.41025641, 0.43589744, 0.46153846, 0.48717949,\n",
       "        0.51282051, 0.53846154, 0.56410256, 0.58974359, 0.61538462,\n",
       "        0.64102564, 0.66666667, 0.69230769, 0.71794872, 0.74358974,\n",
       "        0.76923077, 0.79487179, 0.82051282, 0.84615385, 0.87179487,\n",
       "        0.8974359 , 0.92307692, 0.94871795, 0.97435897, 1.        ]])"
      ]
     },
     "execution_count": 9,
     "metadata": {},
     "output_type": "execute_result"
    }
   ],
   "source": [
    "x"
   ]
  },
  {
   "cell_type": "code",
   "execution_count": 1,
   "id": "63e1751e",
   "metadata": {
    "scrolled": false
   },
   "outputs": [
    {
     "name": "stdout",
     "output_type": "stream",
     "text": [
      "0\n",
      "1\n",
      "2\n"
     ]
    }
   ],
   "source": [
    "for i in range(0,3):\n",
    "    print(i)"
   ]
  },
  {
   "cell_type": "markdown",
   "id": "e33fffe6",
   "metadata": {},
   "source": [
    "3. Know the unique value in the last column"
   ]
  },
  {
   "cell_type": "code",
   "execution_count": 15,
   "id": "a1381802",
   "metadata": {},
   "outputs": [
    {
     "name": "stdout",
     "output_type": "stream",
     "text": [
      "[0 1]\n"
     ]
    }
   ],
   "source": [
    "# Assuming 'data' is your NumPy array or list\n",
    "last_column = array[:, -1]  # Extract the last column\n",
    "unique_values = np.unique(last_column)\n",
    "print(unique_values)"
   ]
  },
  {
   "cell_type": "markdown",
   "id": "59d7abcf",
   "metadata": {},
   "source": [
    "So you may ask, why do we use -1?\n",
    "if we use 1 it will be the first column. the last column will be either 4 or -1."
   ]
  },
  {
   "cell_type": "markdown",
   "id": "24e35b4b",
   "metadata": {},
   "source": [
    "# Common np methods"
   ]
  },
  {
   "cell_type": "markdown",
   "id": "1ab1f1ed",
   "metadata": {},
   "source": [
    "Certainly! Let's go over each method one by one with Python code examples:\n",
    "\n",
    "1. `np.array()`: Create an array from a list or tuple."
   ]
  },
  {
   "cell_type": "code",
   "execution_count": 29,
   "id": "1a11eacc",
   "metadata": {},
   "outputs": [
    {
     "name": "stdout",
     "output_type": "stream",
     "text": [
      "[1 2 3]\n"
     ]
    }
   ],
   "source": [
    "import numpy as np\n",
    "\n",
    "lst = [1, 2, 3]\n",
    "arr = np.array(lst)\n",
    "print(arr)  # Output: [1 2 3]"
   ]
  },
  {
   "cell_type": "markdown",
   "id": "2413d54c",
   "metadata": {},
   "source": [
    "2. `np.zeros()`: Create an array filled with zeros."
   ]
  },
  {
   "cell_type": "code",
   "execution_count": 30,
   "id": "1886e4ee",
   "metadata": {},
   "outputs": [
    {
     "name": "stdout",
     "output_type": "stream",
     "text": [
      "[[0. 0. 0.]\n",
      " [0. 0. 0.]]\n"
     ]
    }
   ],
   "source": [
    "import numpy as np\n",
    "\n",
    "shape = (2, 3)\n",
    "arr = np.zeros(shape)\n",
    "print(arr)\n",
    "# Output:\n",
    "# [[0. 0. 0.]\n",
    "#  [0. 0. 0.]]"
   ]
  },
  {
   "cell_type": "markdown",
   "id": "169bf78d",
   "metadata": {},
   "source": [
    "3. `np.ones()`: Create an array filled with ones.\n"
   ]
  },
  {
   "cell_type": "code",
   "execution_count": 31,
   "id": "44cecd97",
   "metadata": {},
   "outputs": [
    {
     "name": "stdout",
     "output_type": "stream",
     "text": [
      "[[1. 1. 1.]\n",
      " [1. 1. 1.]\n",
      " [1. 1. 1.]]\n"
     ]
    }
   ],
   "source": [
    "import numpy as np\n",
    "\n",
    "shape = (3, 3)\n",
    "arr = np.ones(shape)\n",
    "print(arr)\n",
    "# Output:\n",
    "# [[1. 1. 1.]\n",
    "#  [1. 1. 1.]\n",
    "#  [1. 1. 1.]]"
   ]
  },
  {
   "cell_type": "markdown",
   "id": "7df1442b",
   "metadata": {},
   "source": [
    "4. `np.empty()`: Create an empty array.\n"
   ]
  },
  {
   "cell_type": "code",
   "execution_count": 32,
   "id": "301172a3",
   "metadata": {},
   "outputs": [
    {
     "name": "stdout",
     "output_type": "stream",
     "text": [
      "[[0.25 0.5 ]\n",
      " [0.75 1.  ]]\n"
     ]
    }
   ],
   "source": [
    "import numpy as np\n",
    "\n",
    "shape = (2, 2)\n",
    "arr = np.empty(shape)\n",
    "print(arr)\n",
    "# Output:\n",
    "# [[2.12199579e-314 2.12199579e-314]\n",
    "#  [0.00000000e+000 0.00000000e+000]]"
   ]
  },
  {
   "cell_type": "markdown",
   "id": "74bf0bc7",
   "metadata": {},
   "source": [
    "5. `np.arange()`: Create an array with evenly spaced values.\n"
   ]
  },
  {
   "cell_type": "code",
   "execution_count": 33,
   "id": "8e271815",
   "metadata": {},
   "outputs": [
    {
     "name": "stdout",
     "output_type": "stream",
     "text": [
      "[0 2 4 6 8]\n"
     ]
    }
   ],
   "source": [
    "import numpy as np\n",
    "\n",
    "start = 0\n",
    "stop = 10\n",
    "step = 2\n",
    "arr = np.arange(start, stop, step)\n",
    "print(arr)  # Output: [0 2 4 6 8]"
   ]
  },
  {
   "cell_type": "markdown",
   "id": "1c0ebb6f",
   "metadata": {},
   "source": [
    "6. `np.linspace()`: Create an array with evenly spaced values over a range."
   ]
  },
  {
   "cell_type": "code",
   "execution_count": 34,
   "id": "769e8d11",
   "metadata": {},
   "outputs": [
    {
     "name": "stdout",
     "output_type": "stream",
     "text": [
      "[0.   0.25 0.5  0.75 1.  ]\n"
     ]
    }
   ],
   "source": [
    "import numpy as np\n",
    "\n",
    "start = 0\n",
    "stop = 1\n",
    "num = 5\n",
    "arr = np.linspace(start, stop, num)\n",
    "print(arr)\n",
    "# Output: [0.   0.25 0.5  0.75 1.  ]"
   ]
  },
  {
   "cell_type": "markdown",
   "id": "0afdf5ee",
   "metadata": {},
   "source": [
    "7. `np.random.rand()`: Create an array of random values."
   ]
  },
  {
   "cell_type": "code",
   "execution_count": 35,
   "id": "3734c5be",
   "metadata": {},
   "outputs": [
    {
     "name": "stdout",
     "output_type": "stream",
     "text": [
      "[[0.48359018 0.06173915 0.21093998]\n",
      " [0.58681239 0.08397399 0.45981016]\n",
      " [0.04479783 0.5248001  0.23691481]]\n"
     ]
    }
   ],
   "source": [
    "import numpy as np\n",
    "\n",
    "shape = (3, 3)\n",
    "arr = np.random.rand(shape[0], shape[1])\n",
    "print(arr)  # Output: Randomly generated array"
   ]
  },
  {
   "cell_type": "markdown",
   "id": "7954df2f",
   "metadata": {},
   "source": [
    "8. `ndarray.shape`: Get the dimensions of an array.\n"
   ]
  },
  {
   "cell_type": "code",
   "execution_count": 36,
   "id": "f1b9f910",
   "metadata": {},
   "outputs": [
    {
     "name": "stdout",
     "output_type": "stream",
     "text": [
      "(2, 3)\n"
     ]
    }
   ],
   "source": [
    "import numpy as np\n",
    "\n",
    "arr = np.array([[1, 2, 3], [4, 5, 6]])\n",
    "shape = arr.shape\n",
    "print(shape)  # Output: (2, 3)"
   ]
  },
  {
   "cell_type": "markdown",
   "id": "edd00c7e",
   "metadata": {},
   "source": [
    "9. `ndarray.reshape()`: Reshape an array.\n"
   ]
  },
  {
   "cell_type": "code",
   "execution_count": 37,
   "id": "cbc53ffb",
   "metadata": {},
   "outputs": [
    {
     "name": "stdout",
     "output_type": "stream",
     "text": [
      "[[1 2 3]\n",
      " [4 5 6]]\n"
     ]
    }
   ],
   "source": [
    "import numpy as np\n",
    "\n",
    "arr = np.array([[1, 2, 3], [4, 5, 6]])\n",
    "new_shape = (2, 3)\n",
    "reshaped_arr = arr.reshape(new_shape)\n",
    "print(reshaped_arr)  # Output: Reshaped array"
   ]
  },
  {
   "cell_type": "markdown",
   "id": "657fc32b",
   "metadata": {},
   "source": [
    "10. `ndarray.ndim`: Get the number of array dimensions.\n"
   ]
  },
  {
   "cell_type": "code",
   "execution_count": 38,
   "id": "daf4ca48",
   "metadata": {},
   "outputs": [
    {
     "name": "stdout",
     "output_type": "stream",
     "text": [
      "2\n"
     ]
    }
   ],
   "source": [
    "import numpy as np\n",
    "\n",
    "arr = np.array([[1, 2, 3], [4, 5, 6]])\n",
    "ndim = arr.ndim\n",
    "print(ndim)  # Output: 2"
   ]
  },
  {
   "cell_type": "markdown",
   "id": "415dbe4c",
   "metadata": {},
   "source": [
    "11. `ndarray.size`: Get the total number of elements in an array.\n"
   ]
  },
  {
   "cell_type": "code",
   "execution_count": 39,
   "id": "f4148b17",
   "metadata": {},
   "outputs": [
    {
     "data": {
      "text/plain": [
       "6"
      ]
     },
     "execution_count": 39,
     "metadata": {},
     "output_type": "execute_result"
    }
   ],
   "source": [
    "import numpy as np\n",
    "\n",
    "arr = np.array([[1, 2, 3], [4, 5, 6]])\n",
    "size = arr.size\n",
    "print\n",
    "\n",
    "(size)  # Output: 6"
   ]
  },
  {
   "cell_type": "markdown",
   "id": "2d1bc977",
   "metadata": {},
   "source": [
    "12. `np.add()`: Add two arrays element-wise.\n"
   ]
  },
  {
   "cell_type": "code",
   "execution_count": 40,
   "id": "2ead1f5e",
   "metadata": {},
   "outputs": [
    {
     "name": "stdout",
     "output_type": "stream",
     "text": [
      "[5 7 9]\n"
     ]
    }
   ],
   "source": [
    "import numpy as np\n",
    "\n",
    "arr1 = np.array([1, 2, 3])\n",
    "arr2 = np.array([4, 5, 6])\n",
    "result = np.add(arr1, arr2)\n",
    "print(result)  # Output: [5 7 9]"
   ]
  },
  {
   "cell_type": "markdown",
   "id": "70851742",
   "metadata": {},
   "source": [
    "13. `np.subtract()`: Subtract one array from another element-wise.\n"
   ]
  },
  {
   "cell_type": "code",
   "execution_count": 41,
   "id": "04d222db",
   "metadata": {},
   "outputs": [
    {
     "name": "stdout",
     "output_type": "stream",
     "text": [
      "[3 3 3]\n"
     ]
    }
   ],
   "source": [
    "import numpy as np\n",
    "\n",
    "arr1 = np.array([4, 5, 6])\n",
    "arr2 = np.array([1, 2, 3])\n",
    "result = np.subtract(arr1, arr2)\n",
    "print(result)  # Output: [3 3 3]"
   ]
  },
  {
   "cell_type": "markdown",
   "id": "0706b0d0",
   "metadata": {},
   "source": [
    "14. `np.multiply()`: Multiply two arrays element-wise.\n"
   ]
  },
  {
   "cell_type": "code",
   "execution_count": 42,
   "id": "d3807737",
   "metadata": {},
   "outputs": [
    {
     "name": "stdout",
     "output_type": "stream",
     "text": [
      "[ 4 10 18]\n"
     ]
    }
   ],
   "source": [
    "import numpy as np\n",
    "\n",
    "arr1 = np.array([1, 2, 3])\n",
    "arr2 = np.array([4, 5, 6])\n",
    "result = np.multiply(arr1, arr2)\n",
    "print(result)  # Output: [4 10 18]"
   ]
  },
  {
   "cell_type": "markdown",
   "id": "4cdbfcf8",
   "metadata": {},
   "source": [
    "15. `np.divide()`: Divide elements of one array by another element-wise.\n"
   ]
  },
  {
   "cell_type": "code",
   "execution_count": 43,
   "id": "1a0129e4",
   "metadata": {},
   "outputs": [
    {
     "name": "stdout",
     "output_type": "stream",
     "text": [
      "[2. 2. 6.]\n"
     ]
    }
   ],
   "source": [
    "import numpy as np\n",
    "\n",
    "arr1 = np.array([4, 10, 18])\n",
    "arr2 = np.array([2, 5, 3])\n",
    "result = np.divide(arr1, arr2)\n",
    "print(result)  # Output: [2. 2. 6.]"
   ]
  },
  {
   "cell_type": "markdown",
   "id": "f33c9590",
   "metadata": {},
   "source": [
    "16. `ndarray[start:end:step]`: Extract a portion of the array with a step size.\n"
   ]
  },
  {
   "cell_type": "code",
   "execution_count": 44,
   "id": "befc267f",
   "metadata": {},
   "outputs": [
    {
     "name": "stdout",
     "output_type": "stream",
     "text": [
      "[2 4]\n"
     ]
    }
   ],
   "source": [
    "import numpy as np\n",
    "\n",
    "arr = np.array([1, 2, 3, 4, 5])\n",
    "sub_arr = arr[1:5:2]\n",
    "print(sub_arr)  # Output: [2 4]"
   ]
  },
  {
   "cell_type": "markdown",
   "id": "c3eb6352",
   "metadata": {},
   "source": [
    "17. `ndarray[condition]`: Use a condition to select specific elements from the array.\n"
   ]
  },
  {
   "cell_type": "code",
   "execution_count": 45,
   "id": "a70c4fdf",
   "metadata": {},
   "outputs": [
    {
     "name": "stdout",
     "output_type": "stream",
     "text": [
      "[4 5]\n"
     ]
    }
   ],
   "source": [
    "import numpy as np\n",
    "\n",
    "arr = np.array([1, 2, 3, 4, 5])\n",
    "sub_arr = arr[arr > 3]\n",
    "print(sub_arr)  # Output: [4 5]"
   ]
  },
  {
   "cell_type": "markdown",
   "id": "d5eaf30a",
   "metadata": {},
   "source": [
    "18. `ndarray[:, col_index]`: Access a specific column in a multi-dimensional array.\n"
   ]
  },
  {
   "cell_type": "code",
   "execution_count": 46,
   "id": "8601b96f",
   "metadata": {},
   "outputs": [
    {
     "name": "stdout",
     "output_type": "stream",
     "text": [
      "[3 6]\n"
     ]
    }
   ],
   "source": [
    "import numpy as np\n",
    "\n",
    "arr = np.array([[1, 2, 3], [4, 5, 6]])\n",
    "col_arr = arr[:, 2]\n",
    "print(col_arr)  # Output: [3 6]"
   ]
  },
  {
   "cell_type": "markdown",
   "id": "5f45a648",
   "metadata": {},
   "source": [
    "19. `np.meshgrid()`: Create coordinate matrices from coordinate vectors.\n"
   ]
  },
  {
   "cell_type": "code",
   "execution_count": 53,
   "id": "ed8a8f4f",
   "metadata": {},
   "outputs": [
    {
     "name": "stdout",
     "output_type": "stream",
     "text": [
      "[[1 2 3]\n",
      " [1 2 3]\n",
      " [1 2 3]\n",
      " [1 2 3]]\n",
      "\n",
      "[[4 4 4]\n",
      " [5 5 5]\n",
      " [4 4 4]\n",
      " [7 7 7]]\n"
     ]
    }
   ],
   "source": [
    "import numpy as np\n",
    "\n",
    "x = np.array([1, 2, 3])\n",
    "y = np.array([4, 5, 4, 7])\n",
    "X, Y = np.meshgrid(x, y)\n",
    "print(X)\n",
    "print()\n",
    "print(Y)\n",
    "# Output:\n",
    "# [[1 2 3]\n",
    "#  [1 2 3]]\n",
    "# [[4 4 4]\n",
    "#  [5 5 5]]"
   ]
  },
  {
   "cell_type": "markdown",
   "id": "1ae80af7",
   "metadata": {},
   "source": [
    "20. `np.stack()`: Stack arrays along a new axis.\n"
   ]
  },
  {
   "cell_type": "code",
   "execution_count": 51,
   "id": "6b83902d",
   "metadata": {},
   "outputs": [
    {
     "name": "stdout",
     "output_type": "stream",
     "text": [
      "[[1 2 3 4]\n",
      " [4 5 6 3]]\n"
     ]
    }
   ],
   "source": [
    "import numpy as np\n",
    "\n",
    "arr1 = np.array([1, 2, 3, 4])\n",
    "arr2 = np.array([4, 5, 6, 3])\n",
    "stacked_arr = np.stack((arr1, arr2))\n",
    "print(stacked_arr)\n",
    "# Output:\n",
    "# [[1 2 3]\n",
    "#  [4 5 6]]"
   ]
  },
  {
   "cell_type": "code",
   "execution_count": null,
   "id": "1242403d",
   "metadata": {},
   "outputs": [],
   "source": []
  }
 ],
 "metadata": {
  "kernelspec": {
   "display_name": "Python 3 (ipykernel)",
   "language": "python",
   "name": "python3"
  },
  "language_info": {
   "codemirror_mode": {
    "name": "ipython",
    "version": 3
   },
   "file_extension": ".py",
   "mimetype": "text/x-python",
   "name": "python",
   "nbconvert_exporter": "python",
   "pygments_lexer": "ipython3",
   "version": "3.11.3"
  }
 },
 "nbformat": 4,
 "nbformat_minor": 5
}
